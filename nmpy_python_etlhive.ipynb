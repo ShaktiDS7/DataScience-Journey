{
 "cells": [
  {
   "cell_type": "code",
   "execution_count": 1,
   "metadata": {},
   "outputs": [
    {
     "name": "stdout",
     "output_type": "stream",
     "text": [
      "[89.   56.34 74.   89.   98.  ]\n",
      "float64\n"
     ]
    }
   ],
   "source": [
    "import numpy as np\n",
    "scores=[89,56.34,74,89,98]\n",
    "first_arr=np.array(scores)\n",
    "print(first_arr)\n",
    "print(first_arr.dtype) #.dtype returns the data type of array object ---- single dimensional array"
   ]
  },
  {
   "cell_type": "code",
   "execution_count": 2,
   "metadata": {},
   "outputs": [
    {
     "name": "stdout",
     "output_type": "stream",
     "text": [
      "[[34 56 23 89]\n",
      " [11 45 76 34]]\n",
      "2\n",
      "(2, 4)\n",
      "int32\n"
     ]
    }
   ],
   "source": [
    "scores_1=[[34,56,23,89],[11,45,76,34]]\n",
    "second_arr=np.array(scores_1)\n",
    "print(second_arr)\n",
    "print(second_arr.ndim) #ndim gives you the dimensions of an array\n",
    "print(second_arr.shape) #number of rows, number of columns\n",
    "print(second_arr.dtype)"
   ]
  },
  {
   "cell_type": "code",
   "execution_count": 6,
   "metadata": {},
   "outputs": [
    {
     "name": "stdout",
     "output_type": "stream",
     "text": [
      "[0. 0. 0. 0. 0. 0. 0. 0. 0. 0.] [1. 1. 1. 1. 1. 1. 1. 1. 1. 1.]\n",
      "[[0. 0. 0.]\n",
      " [0. 0. 0.]\n",
      " [0. 0. 0.]\n",
      " [0. 0. 0.]]\n",
      "[ 0  1  2  3  4  5  6  7  8  9 10 11 12 13 14]\n"
     ]
    }
   ],
   "source": [
    "x=np.zeros(10) #returns an array of zeros\n",
    "y=np.ones(10) #returns 1\n",
    "\n",
    "x_upgrade=np.zeros((4,3))\n",
    "x_arr=np.arange(15)\n",
    "print(x,y)\n",
    "print(x_upgrade)\n",
    "print(x_arr)"
   ]
  },
  {
   "cell_type": "code",
   "execution_count": 7,
   "metadata": {},
   "outputs": [
    {
     "name": "stdout",
     "output_type": "stream",
     "text": [
      "[[1. 0. 0. 0.]\n",
      " [0. 1. 0. 0.]\n",
      " [0. 0. 1. 0.]\n",
      " [0. 0. 0. 1.]]\n"
     ]
    }
   ],
   "source": [
    "id_matr=np.eye(4) #create a square N*N identity matrix(1 on diagonals and 0 elsewhere)\n",
    "print(id_matr)"
   ]
  },
  {
   "cell_type": "code",
   "execution_count": 9,
   "metadata": {},
   "outputs": [
    {
     "name": "stdout",
     "output_type": "stream",
     "text": [
      "[ 0  1  2  3  4  5  6  7  8  9 10 11]\n",
      "5\n",
      "[4 5 6 7 8]\n",
      "[ 0  1  2  3 99 99 99 99 99  9 10 11]\n"
     ]
    }
   ],
   "source": [
    "new_arr=np.arange(12)\n",
    "print(new_arr)\n",
    "print(new_arr[5])\n",
    "print(new_arr[4:9])\n",
    "new_arr[4:9]=99\n",
    "print(new_arr)"
   ]
  },
  {
   "cell_type": "code",
   "execution_count": 10,
   "metadata": {},
   "outputs": [
    {
     "name": "stdout",
     "output_type": "stream",
     "text": [
      "[     0      1      2      3     99 123456     99     99     99      9\n",
      "     10     11]\n"
     ]
    },
    {
     "data": {
      "text/plain": [
       "array([    99, 123456,     99,     99,     99])"
      ]
     },
     "execution_count": 10,
     "metadata": {},
     "output_type": "execute_result"
    }
   ],
   "source": [
    "modi_arr= new_arr[4:9]\n",
    "modi_arr[1]=123456\n",
    "print(new_arr)\n",
    "modi_arr[:]"
   ]
  },
  {
   "cell_type": "code",
   "execution_count": 15,
   "metadata": {},
   "outputs": [
    {
     "name": "stdout",
     "output_type": "stream",
     "text": [
      "[[3 4 5]\n",
      " [6 7 8]\n",
      " [9 5 1]]\n",
      "[6 7 8]\n",
      "5\n",
      "5\n"
     ]
    }
   ],
   "source": [
    "matrix_arr=np.array([[3,4,5],[6,7,8],[9,5,1]])\n",
    "print(matrix_arr)\n",
    "print(matrix_arr[1])\n",
    "print(matrix_arr[0][2])#first row and third column\n",
    "print(matrix_arr[0,2]) #This is same as the above operation"
   ]
  },
  {
   "cell_type": "code",
   "execution_count": 16,
   "metadata": {},
   "outputs": [
    {
     "name": "stdout",
     "output_type": "stream",
     "text": [
      "[[-0.05178345 -2.29852361 -0.73063889 -0.4418992   1.33181552]\n",
      " [-1.44456505  0.88430182 -2.06812446  0.28008285  1.29642308]\n",
      " [-0.98570553  0.17252061 -0.38866807 -0.70773341 -0.63341274]\n",
      " [ 0.9502417  -0.12167535 -0.128418   -0.54823433 -0.81672289]\n",
      " [-0.38285832 -1.29033957 -1.62454389 -0.74531706  0.6406571 ]]\n",
      "-0.39412484468025377\n",
      "-0.39412484468025377\n",
      "-9.853121117006344\n"
     ]
    }
   ],
   "source": [
    "thie=np.random.randn(5,5)\n",
    "print(thie)\n",
    "print(thie.mean())\n",
    "print(np.mean(thie))\n",
    "print(thie.sum())"
   ]
  },
  {
   "cell_type": "code",
   "execution_count": 18,
   "metadata": {},
   "outputs": [
    {
     "name": "stdout",
     "output_type": "stream",
     "text": [
      "The arrays are: [[ 0  1  2]\n",
      " [ 3  4  5]\n",
      " [ 6  7  8]\n",
      " [ 9 10 11]]\n",
      "The sum of rows are : [18 22 26].\n",
      "[ 3 12 21 30]\n"
     ]
    }
   ],
   "source": [
    "jp=np.arange(12).reshape(4,3)\n",
    "print('The arrays are: {}'.format(jp))\n",
    "print('The sum of rows are : {}.'.format(np.sum(jp,axis=0))) #axis=0 gives you sum of columns, axis=1 gives you rows\n",
    "\n",
    "#remember this zero is for columns and one is for rows\n",
    "\n",
    "print(jp.sum(1)) #return sum of rows"
   ]
  },
  {
   "cell_type": "code",
   "execution_count": 20,
   "metadata": {},
   "outputs": [
    {
     "name": "stdout",
     "output_type": "stream",
     "text": [
      "[-1.01837692 -0.34153628 -0.4864175  -1.05517872 -1.14102781  0.91356879\n",
      "  0.18091994 -0.31957638]\n",
      "[-1.14102781 -1.05517872 -1.01837692 -0.4864175  -0.34153628 -0.31957638\n",
      "  0.18091994  0.91356879]\n"
     ]
    }
   ],
   "source": [
    "lp=np.random.randn(8)\n",
    "print(lp)\n",
    "lp.sort()\n",
    "print(lp)"
   ]
  },
  {
   "cell_type": "code",
   "execution_count": null,
   "metadata": {},
   "outputs": [],
   "source": []
  }
 ],
 "metadata": {
  "kernelspec": {
   "display_name": "Python 3",
   "language": "python",
   "name": "python3"
  },
  "language_info": {
   "codemirror_mode": {
    "name": "ipython",
    "version": 3
   },
   "file_extension": ".py",
   "mimetype": "text/x-python",
   "name": "python",
   "nbconvert_exporter": "python",
   "pygments_lexer": "ipython3",
   "version": "3.7.1"
  }
 },
 "nbformat": 4,
 "nbformat_minor": 2
}
